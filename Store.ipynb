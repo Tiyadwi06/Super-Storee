{
 "cells": [
  {
   "cell_type": "code",
   "execution_count": 19,
   "metadata": {},
   "outputs": [],
   "source": [
    "import numpy as np\n",
    "import pandas as pd\n",
    "import matplotlib.pyplot as plt\n",
    "import seaborn as sns \n",
    "import plotly.express as px"
   ]
  },
  {
   "cell_type": "code",
   "execution_count": 20,
   "metadata": {},
   "outputs": [],
   "source": [
    "Store = pd.read_csv('C:/Users/LENOVO/Documents/Data Science/data-data percobaan/SuperStore Dataset/SuperStore_Sales_Dataset.csv')"
   ]
  },
  {
   "cell_type": "markdown",
   "metadata": {},
   "source": [
    "# Data Exploration"
   ]
  },
  {
   "cell_type": "code",
   "execution_count": 21,
   "metadata": {},
   "outputs": [
    {
     "data": {
      "text/plain": [
       "(5901, 23)"
      ]
     },
     "execution_count": 21,
     "metadata": {},
     "output_type": "execute_result"
    }
   ],
   "source": [
    "Store.shape"
   ]
  },
  {
   "cell_type": "code",
   "execution_count": 22,
   "metadata": {},
   "outputs": [
    {
     "data": {
      "text/plain": [
       "Row ID+O6G3A1:R6       0\n",
       "Order ID               0\n",
       "Order Date             0\n",
       "Ship Date              0\n",
       "Ship Mode              0\n",
       "Customer ID            0\n",
       "Customer Name          0\n",
       "Segment                0\n",
       "Country                0\n",
       "City                   0\n",
       "State                  0\n",
       "Region                 0\n",
       "Product ID             0\n",
       "Category               0\n",
       "Sub-Category           0\n",
       "Product Name           0\n",
       "Sales                  0\n",
       "Quantity               0\n",
       "Profit                 0\n",
       "Returns             5614\n",
       "Payment Mode           0\n",
       "ind1                5901\n",
       "ind2                5901\n",
       "dtype: int64"
      ]
     },
     "execution_count": 22,
     "metadata": {},
     "output_type": "execute_result"
    }
   ],
   "source": [
    "Store.isnull().sum()"
   ]
  },
  {
   "cell_type": "code",
   "execution_count": 23,
   "metadata": {},
   "outputs": [],
   "source": [
    "Store.drop(['Returns','ind1','ind2','Row ID+O6G3A1:R6'], axis=1, inplace=True)"
   ]
  },
  {
   "cell_type": "code",
   "execution_count": 24,
   "metadata": {},
   "outputs": [
    {
     "data": {
      "text/html": [
       "<div>\n",
       "<style scoped>\n",
       "    .dataframe tbody tr th:only-of-type {\n",
       "        vertical-align: middle;\n",
       "    }\n",
       "\n",
       "    .dataframe tbody tr th {\n",
       "        vertical-align: top;\n",
       "    }\n",
       "\n",
       "    .dataframe thead th {\n",
       "        text-align: right;\n",
       "    }\n",
       "</style>\n",
       "<table border=\"1\" class=\"dataframe\">\n",
       "  <thead>\n",
       "    <tr style=\"text-align: right;\">\n",
       "      <th></th>\n",
       "      <th>Order ID</th>\n",
       "      <th>Order Date</th>\n",
       "      <th>Ship Date</th>\n",
       "      <th>Ship Mode</th>\n",
       "      <th>Customer ID</th>\n",
       "      <th>Customer Name</th>\n",
       "      <th>Segment</th>\n",
       "      <th>Country</th>\n",
       "      <th>City</th>\n",
       "      <th>State</th>\n",
       "      <th>Region</th>\n",
       "      <th>Product ID</th>\n",
       "      <th>Category</th>\n",
       "      <th>Sub-Category</th>\n",
       "      <th>Product Name</th>\n",
       "      <th>Sales</th>\n",
       "      <th>Quantity</th>\n",
       "      <th>Profit</th>\n",
       "      <th>Payment Mode</th>\n",
       "    </tr>\n",
       "  </thead>\n",
       "  <tbody>\n",
       "    <tr>\n",
       "      <th>0</th>\n",
       "      <td>CA-2019-160304</td>\n",
       "      <td>01-01-2019</td>\n",
       "      <td>07-01-2019</td>\n",
       "      <td>Standard Class</td>\n",
       "      <td>BM-11575</td>\n",
       "      <td>Brendan Murry</td>\n",
       "      <td>Corporate</td>\n",
       "      <td>United States</td>\n",
       "      <td>Gaithersburg</td>\n",
       "      <td>Maryland</td>\n",
       "      <td>East</td>\n",
       "      <td>FUR-BO-10004709</td>\n",
       "      <td>Furniture</td>\n",
       "      <td>Bookcases</td>\n",
       "      <td>Bush Westfield Collection Bookcases, Medium Ch...</td>\n",
       "      <td>73.94</td>\n",
       "      <td>1</td>\n",
       "      <td>28.2668</td>\n",
       "      <td>Online</td>\n",
       "    </tr>\n",
       "    <tr>\n",
       "      <th>1</th>\n",
       "      <td>CA-2019-160304</td>\n",
       "      <td>02-01-2019</td>\n",
       "      <td>07-01-2019</td>\n",
       "      <td>Standard Class</td>\n",
       "      <td>BM-11575</td>\n",
       "      <td>Brendan Murry</td>\n",
       "      <td>Corporate</td>\n",
       "      <td>United States</td>\n",
       "      <td>Gaithersburg</td>\n",
       "      <td>Maryland</td>\n",
       "      <td>East</td>\n",
       "      <td>FUR-BO-10004709</td>\n",
       "      <td>Furniture</td>\n",
       "      <td>Bookcases</td>\n",
       "      <td>Bush Westfield Collection Bookcases, Medium Ch...</td>\n",
       "      <td>173.94</td>\n",
       "      <td>3</td>\n",
       "      <td>38.2668</td>\n",
       "      <td>Online</td>\n",
       "    </tr>\n",
       "    <tr>\n",
       "      <th>2</th>\n",
       "      <td>CA-2019-160304</td>\n",
       "      <td>02-01-2019</td>\n",
       "      <td>07-01-2019</td>\n",
       "      <td>Standard Class</td>\n",
       "      <td>BM-11575</td>\n",
       "      <td>Brendan Murry</td>\n",
       "      <td>Corporate</td>\n",
       "      <td>United States</td>\n",
       "      <td>Gaithersburg</td>\n",
       "      <td>Maryland</td>\n",
       "      <td>East</td>\n",
       "      <td>TEC-PH-10000455</td>\n",
       "      <td>Technology</td>\n",
       "      <td>Phones</td>\n",
       "      <td>GE 30522EE2</td>\n",
       "      <td>231.98</td>\n",
       "      <td>2</td>\n",
       "      <td>67.2742</td>\n",
       "      <td>Cards</td>\n",
       "    </tr>\n",
       "    <tr>\n",
       "      <th>3</th>\n",
       "      <td>CA-2019-125206</td>\n",
       "      <td>03-01-2019</td>\n",
       "      <td>05-01-2019</td>\n",
       "      <td>First Class</td>\n",
       "      <td>LR-16915</td>\n",
       "      <td>Lena Radford</td>\n",
       "      <td>Consumer</td>\n",
       "      <td>United States</td>\n",
       "      <td>Los Angeles</td>\n",
       "      <td>California</td>\n",
       "      <td>West</td>\n",
       "      <td>OFF-ST-10003692</td>\n",
       "      <td>Office Supplies</td>\n",
       "      <td>Storage</td>\n",
       "      <td>Recycled Steel Personal File for Hanging File ...</td>\n",
       "      <td>114.46</td>\n",
       "      <td>2</td>\n",
       "      <td>28.6150</td>\n",
       "      <td>Online</td>\n",
       "    </tr>\n",
       "    <tr>\n",
       "      <th>4</th>\n",
       "      <td>US-2019-116365</td>\n",
       "      <td>03-01-2019</td>\n",
       "      <td>08-01-2019</td>\n",
       "      <td>Standard Class</td>\n",
       "      <td>CA-12310</td>\n",
       "      <td>Christine Abelman</td>\n",
       "      <td>Corporate</td>\n",
       "      <td>United States</td>\n",
       "      <td>San Antonio</td>\n",
       "      <td>Texas</td>\n",
       "      <td>Central</td>\n",
       "      <td>TEC-AC-10002217</td>\n",
       "      <td>Technology</td>\n",
       "      <td>Accessories</td>\n",
       "      <td>Imation Clip USB flash drive - 8 GB</td>\n",
       "      <td>30.08</td>\n",
       "      <td>2</td>\n",
       "      <td>-5.2640</td>\n",
       "      <td>Online</td>\n",
       "    </tr>\n",
       "  </tbody>\n",
       "</table>\n",
       "</div>"
      ],
      "text/plain": [
       "         Order ID  Order Date   Ship Date       Ship Mode Customer ID  \\\n",
       "0  CA-2019-160304  01-01-2019  07-01-2019  Standard Class    BM-11575   \n",
       "1  CA-2019-160304  02-01-2019  07-01-2019  Standard Class    BM-11575   \n",
       "2  CA-2019-160304  02-01-2019  07-01-2019  Standard Class    BM-11575   \n",
       "3  CA-2019-125206  03-01-2019  05-01-2019     First Class    LR-16915   \n",
       "4  US-2019-116365  03-01-2019  08-01-2019  Standard Class    CA-12310   \n",
       "\n",
       "       Customer Name    Segment        Country          City       State  \\\n",
       "0      Brendan Murry  Corporate  United States  Gaithersburg    Maryland   \n",
       "1      Brendan Murry  Corporate  United States  Gaithersburg    Maryland   \n",
       "2      Brendan Murry  Corporate  United States  Gaithersburg    Maryland   \n",
       "3       Lena Radford   Consumer  United States   Los Angeles  California   \n",
       "4  Christine Abelman  Corporate  United States   San Antonio       Texas   \n",
       "\n",
       "    Region       Product ID         Category Sub-Category  \\\n",
       "0     East  FUR-BO-10004709        Furniture    Bookcases   \n",
       "1     East  FUR-BO-10004709        Furniture    Bookcases   \n",
       "2     East  TEC-PH-10000455       Technology       Phones   \n",
       "3     West  OFF-ST-10003692  Office Supplies      Storage   \n",
       "4  Central  TEC-AC-10002217       Technology  Accessories   \n",
       "\n",
       "                                        Product Name   Sales  Quantity  \\\n",
       "0  Bush Westfield Collection Bookcases, Medium Ch...   73.94         1   \n",
       "1  Bush Westfield Collection Bookcases, Medium Ch...  173.94         3   \n",
       "2                                        GE 30522EE2  231.98         2   \n",
       "3  Recycled Steel Personal File for Hanging File ...  114.46         2   \n",
       "4                Imation Clip USB flash drive - 8 GB   30.08         2   \n",
       "\n",
       "    Profit Payment Mode  \n",
       "0  28.2668       Online  \n",
       "1  38.2668       Online  \n",
       "2  67.2742        Cards  \n",
       "3  28.6150       Online  \n",
       "4  -5.2640       Online  "
      ]
     },
     "execution_count": 24,
     "metadata": {},
     "output_type": "execute_result"
    }
   ],
   "source": [
    "Store.head(5)"
   ]
  },
  {
   "cell_type": "code",
   "execution_count": 25,
   "metadata": {},
   "outputs": [
    {
     "name": "stdout",
     "output_type": "stream",
     "text": [
      "<class 'pandas.core.frame.DataFrame'>\n",
      "RangeIndex: 5901 entries, 0 to 5900\n",
      "Data columns (total 19 columns):\n",
      " #   Column         Non-Null Count  Dtype  \n",
      "---  ------         --------------  -----  \n",
      " 0   Order ID       5901 non-null   object \n",
      " 1   Order Date     5901 non-null   object \n",
      " 2   Ship Date      5901 non-null   object \n",
      " 3   Ship Mode      5901 non-null   object \n",
      " 4   Customer ID    5901 non-null   object \n",
      " 5   Customer Name  5901 non-null   object \n",
      " 6   Segment        5901 non-null   object \n",
      " 7   Country        5901 non-null   object \n",
      " 8   City           5901 non-null   object \n",
      " 9   State          5901 non-null   object \n",
      " 10  Region         5901 non-null   object \n",
      " 11  Product ID     5901 non-null   object \n",
      " 12  Category       5901 non-null   object \n",
      " 13  Sub-Category   5901 non-null   object \n",
      " 14  Product Name   5901 non-null   object \n",
      " 15  Sales          5901 non-null   float64\n",
      " 16  Quantity       5901 non-null   int64  \n",
      " 17  Profit         5901 non-null   float64\n",
      " 18  Payment Mode   5901 non-null   object \n",
      "dtypes: float64(2), int64(1), object(16)\n",
      "memory usage: 876.1+ KB\n"
     ]
    }
   ],
   "source": [
    "Store.info()"
   ]
  },
  {
   "cell_type": "code",
   "execution_count": 26,
   "metadata": {},
   "outputs": [
    {
     "data": {
      "text/plain": [
       "Category\n",
       "Office Supplies    3569\n",
       "Furniture          1249\n",
       "Technology         1083\n",
       "Name: count, dtype: int64"
      ]
     },
     "execution_count": 26,
     "metadata": {},
     "output_type": "execute_result"
    }
   ],
   "source": [
    "Store['Category'].value_counts()"
   ]
  },
  {
   "cell_type": "code",
   "execution_count": 27,
   "metadata": {},
   "outputs": [
    {
     "data": {
      "text/plain": [
       "0"
      ]
     },
     "execution_count": 27,
     "metadata": {},
     "output_type": "execute_result"
    }
   ],
   "source": [
    "Store.duplicated().sum()"
   ]
  },
  {
   "cell_type": "code",
   "execution_count": 28,
   "metadata": {},
   "outputs": [],
   "source": [
    "Store['Order Date'] = pd.to_datetime(Store['Order Date'], format= \"%d-%m-%Y\") "
   ]
  },
  {
   "cell_type": "code",
   "execution_count": 29,
   "metadata": {},
   "outputs": [],
   "source": [
    "Store['Ship Date'] = pd.to_datetime(Store['Ship Date'], format= \"%d-%m-%Y\") "
   ]
  },
  {
   "cell_type": "code",
   "execution_count": 30,
   "metadata": {},
   "outputs": [
    {
     "name": "stdout",
     "output_type": "stream",
     "text": [
      "<class 'pandas.core.frame.DataFrame'>\n",
      "RangeIndex: 5901 entries, 0 to 5900\n",
      "Data columns (total 19 columns):\n",
      " #   Column         Non-Null Count  Dtype         \n",
      "---  ------         --------------  -----         \n",
      " 0   Order ID       5901 non-null   object        \n",
      " 1   Order Date     5901 non-null   datetime64[ns]\n",
      " 2   Ship Date      5901 non-null   datetime64[ns]\n",
      " 3   Ship Mode      5901 non-null   object        \n",
      " 4   Customer ID    5901 non-null   object        \n",
      " 5   Customer Name  5901 non-null   object        \n",
      " 6   Segment        5901 non-null   object        \n",
      " 7   Country        5901 non-null   object        \n",
      " 8   City           5901 non-null   object        \n",
      " 9   State          5901 non-null   object        \n",
      " 10  Region         5901 non-null   object        \n",
      " 11  Product ID     5901 non-null   object        \n",
      " 12  Category       5901 non-null   object        \n",
      " 13  Sub-Category   5901 non-null   object        \n",
      " 14  Product Name   5901 non-null   object        \n",
      " 15  Sales          5901 non-null   float64       \n",
      " 16  Quantity       5901 non-null   int64         \n",
      " 17  Profit         5901 non-null   float64       \n",
      " 18  Payment Mode   5901 non-null   object        \n",
      "dtypes: datetime64[ns](2), float64(2), int64(1), object(14)\n",
      "memory usage: 876.1+ KB\n"
     ]
    }
   ],
   "source": [
    "Store.info()"
   ]
  },
  {
   "cell_type": "code",
   "execution_count": 31,
   "metadata": {},
   "outputs": [],
   "source": [
    "Store['Month_Year'] = Store['Order Date'].dt.to_period('M')\n",
    "Store['Month_Year'] = Store['Ship Date'].dt.to_period('M')"
   ]
  },
  {
   "cell_type": "code",
   "execution_count": 32,
   "metadata": {},
   "outputs": [
    {
     "data": {
      "text/plain": [
       "0       1\n",
       "1       1\n",
       "2       1\n",
       "3       1\n",
       "4       1\n",
       "       ..\n",
       "5896    1\n",
       "5897    1\n",
       "5898    1\n",
       "5899    1\n",
       "5900    1\n",
       "Name: Ship Date, Length: 5901, dtype: int32"
      ]
     },
     "execution_count": 32,
     "metadata": {},
     "output_type": "execute_result"
    }
   ],
   "source": [
    "Store[\"Order Date\"].dt.month \n",
    "Store[\"Ship Date\"].dt.month"
   ]
  },
  {
   "cell_type": "code",
   "execution_count": 33,
   "metadata": {},
   "outputs": [],
   "source": [
    "Store[\"Month_Order\"]=Store[\"Order Date\"].dt.month\n",
    "Store[\"Month_Ship\"]=Store[\"Ship Date\"].dt.month"
   ]
  },
  {
   "cell_type": "code",
   "execution_count": 34,
   "metadata": {},
   "outputs": [
    {
     "data": {
      "text/html": [
       "<div>\n",
       "<style scoped>\n",
       "    .dataframe tbody tr th:only-of-type {\n",
       "        vertical-align: middle;\n",
       "    }\n",
       "\n",
       "    .dataframe tbody tr th {\n",
       "        vertical-align: top;\n",
       "    }\n",
       "\n",
       "    .dataframe thead th {\n",
       "        text-align: right;\n",
       "    }\n",
       "</style>\n",
       "<table border=\"1\" class=\"dataframe\">\n",
       "  <thead>\n",
       "    <tr style=\"text-align: right;\">\n",
       "      <th></th>\n",
       "      <th>Order ID</th>\n",
       "      <th>Order Date</th>\n",
       "      <th>Ship Date</th>\n",
       "      <th>Ship Mode</th>\n",
       "      <th>Customer ID</th>\n",
       "      <th>Customer Name</th>\n",
       "      <th>Segment</th>\n",
       "      <th>Country</th>\n",
       "      <th>City</th>\n",
       "      <th>State</th>\n",
       "      <th>...</th>\n",
       "      <th>Category</th>\n",
       "      <th>Sub-Category</th>\n",
       "      <th>Product Name</th>\n",
       "      <th>Sales</th>\n",
       "      <th>Quantity</th>\n",
       "      <th>Profit</th>\n",
       "      <th>Payment Mode</th>\n",
       "      <th>Month_Year</th>\n",
       "      <th>Month_Order</th>\n",
       "      <th>Month_Ship</th>\n",
       "    </tr>\n",
       "  </thead>\n",
       "  <tbody>\n",
       "    <tr>\n",
       "      <th>0</th>\n",
       "      <td>CA-2019-160304</td>\n",
       "      <td>2019-01-01</td>\n",
       "      <td>2019-01-07</td>\n",
       "      <td>Standard Class</td>\n",
       "      <td>BM-11575</td>\n",
       "      <td>Brendan Murry</td>\n",
       "      <td>Corporate</td>\n",
       "      <td>United States</td>\n",
       "      <td>Gaithersburg</td>\n",
       "      <td>Maryland</td>\n",
       "      <td>...</td>\n",
       "      <td>Furniture</td>\n",
       "      <td>Bookcases</td>\n",
       "      <td>Bush Westfield Collection Bookcases, Medium Ch...</td>\n",
       "      <td>73.94</td>\n",
       "      <td>1</td>\n",
       "      <td>28.2668</td>\n",
       "      <td>Online</td>\n",
       "      <td>2019-01</td>\n",
       "      <td>1</td>\n",
       "      <td>1</td>\n",
       "    </tr>\n",
       "    <tr>\n",
       "      <th>1</th>\n",
       "      <td>CA-2019-160304</td>\n",
       "      <td>2019-01-02</td>\n",
       "      <td>2019-01-07</td>\n",
       "      <td>Standard Class</td>\n",
       "      <td>BM-11575</td>\n",
       "      <td>Brendan Murry</td>\n",
       "      <td>Corporate</td>\n",
       "      <td>United States</td>\n",
       "      <td>Gaithersburg</td>\n",
       "      <td>Maryland</td>\n",
       "      <td>...</td>\n",
       "      <td>Furniture</td>\n",
       "      <td>Bookcases</td>\n",
       "      <td>Bush Westfield Collection Bookcases, Medium Ch...</td>\n",
       "      <td>173.94</td>\n",
       "      <td>3</td>\n",
       "      <td>38.2668</td>\n",
       "      <td>Online</td>\n",
       "      <td>2019-01</td>\n",
       "      <td>1</td>\n",
       "      <td>1</td>\n",
       "    </tr>\n",
       "    <tr>\n",
       "      <th>2</th>\n",
       "      <td>CA-2019-160304</td>\n",
       "      <td>2019-01-02</td>\n",
       "      <td>2019-01-07</td>\n",
       "      <td>Standard Class</td>\n",
       "      <td>BM-11575</td>\n",
       "      <td>Brendan Murry</td>\n",
       "      <td>Corporate</td>\n",
       "      <td>United States</td>\n",
       "      <td>Gaithersburg</td>\n",
       "      <td>Maryland</td>\n",
       "      <td>...</td>\n",
       "      <td>Technology</td>\n",
       "      <td>Phones</td>\n",
       "      <td>GE 30522EE2</td>\n",
       "      <td>231.98</td>\n",
       "      <td>2</td>\n",
       "      <td>67.2742</td>\n",
       "      <td>Cards</td>\n",
       "      <td>2019-01</td>\n",
       "      <td>1</td>\n",
       "      <td>1</td>\n",
       "    </tr>\n",
       "    <tr>\n",
       "      <th>3</th>\n",
       "      <td>CA-2019-125206</td>\n",
       "      <td>2019-01-03</td>\n",
       "      <td>2019-01-05</td>\n",
       "      <td>First Class</td>\n",
       "      <td>LR-16915</td>\n",
       "      <td>Lena Radford</td>\n",
       "      <td>Consumer</td>\n",
       "      <td>United States</td>\n",
       "      <td>Los Angeles</td>\n",
       "      <td>California</td>\n",
       "      <td>...</td>\n",
       "      <td>Office Supplies</td>\n",
       "      <td>Storage</td>\n",
       "      <td>Recycled Steel Personal File for Hanging File ...</td>\n",
       "      <td>114.46</td>\n",
       "      <td>2</td>\n",
       "      <td>28.6150</td>\n",
       "      <td>Online</td>\n",
       "      <td>2019-01</td>\n",
       "      <td>1</td>\n",
       "      <td>1</td>\n",
       "    </tr>\n",
       "    <tr>\n",
       "      <th>4</th>\n",
       "      <td>US-2019-116365</td>\n",
       "      <td>2019-01-03</td>\n",
       "      <td>2019-01-08</td>\n",
       "      <td>Standard Class</td>\n",
       "      <td>CA-12310</td>\n",
       "      <td>Christine Abelman</td>\n",
       "      <td>Corporate</td>\n",
       "      <td>United States</td>\n",
       "      <td>San Antonio</td>\n",
       "      <td>Texas</td>\n",
       "      <td>...</td>\n",
       "      <td>Technology</td>\n",
       "      <td>Accessories</td>\n",
       "      <td>Imation Clip USB flash drive - 8 GB</td>\n",
       "      <td>30.08</td>\n",
       "      <td>2</td>\n",
       "      <td>-5.2640</td>\n",
       "      <td>Online</td>\n",
       "      <td>2019-01</td>\n",
       "      <td>1</td>\n",
       "      <td>1</td>\n",
       "    </tr>\n",
       "  </tbody>\n",
       "</table>\n",
       "<p>5 rows × 22 columns</p>\n",
       "</div>"
      ],
      "text/plain": [
       "         Order ID Order Date  Ship Date       Ship Mode Customer ID  \\\n",
       "0  CA-2019-160304 2019-01-01 2019-01-07  Standard Class    BM-11575   \n",
       "1  CA-2019-160304 2019-01-02 2019-01-07  Standard Class    BM-11575   \n",
       "2  CA-2019-160304 2019-01-02 2019-01-07  Standard Class    BM-11575   \n",
       "3  CA-2019-125206 2019-01-03 2019-01-05     First Class    LR-16915   \n",
       "4  US-2019-116365 2019-01-03 2019-01-08  Standard Class    CA-12310   \n",
       "\n",
       "       Customer Name    Segment        Country          City       State  ...  \\\n",
       "0      Brendan Murry  Corporate  United States  Gaithersburg    Maryland  ...   \n",
       "1      Brendan Murry  Corporate  United States  Gaithersburg    Maryland  ...   \n",
       "2      Brendan Murry  Corporate  United States  Gaithersburg    Maryland  ...   \n",
       "3       Lena Radford   Consumer  United States   Los Angeles  California  ...   \n",
       "4  Christine Abelman  Corporate  United States   San Antonio       Texas  ...   \n",
       "\n",
       "          Category Sub-Category  \\\n",
       "0        Furniture    Bookcases   \n",
       "1        Furniture    Bookcases   \n",
       "2       Technology       Phones   \n",
       "3  Office Supplies      Storage   \n",
       "4       Technology  Accessories   \n",
       "\n",
       "                                        Product Name   Sales Quantity  \\\n",
       "0  Bush Westfield Collection Bookcases, Medium Ch...   73.94        1   \n",
       "1  Bush Westfield Collection Bookcases, Medium Ch...  173.94        3   \n",
       "2                                        GE 30522EE2  231.98        2   \n",
       "3  Recycled Steel Personal File for Hanging File ...  114.46        2   \n",
       "4                Imation Clip USB flash drive - 8 GB   30.08        2   \n",
       "\n",
       "    Profit  Payment Mode  Month_Year Month_Order Month_Ship  \n",
       "0  28.2668        Online     2019-01           1          1  \n",
       "1  38.2668        Online     2019-01           1          1  \n",
       "2  67.2742         Cards     2019-01           1          1  \n",
       "3  28.6150        Online     2019-01           1          1  \n",
       "4  -5.2640        Online     2019-01           1          1  \n",
       "\n",
       "[5 rows x 22 columns]"
      ]
     },
     "execution_count": 34,
     "metadata": {},
     "output_type": "execute_result"
    }
   ],
   "source": [
    "Store.head()"
   ]
  },
  {
   "cell_type": "code",
   "execution_count": 35,
   "metadata": {},
   "outputs": [],
   "source": [
    "Store.to_excel('Store_Final1.xlsx',sheet_name='Store')"
   ]
  }
 ],
 "metadata": {
  "kernelspec": {
   "display_name": "Python 3",
   "language": "python",
   "name": "python3"
  },
  "language_info": {
   "codemirror_mode": {
    "name": "ipython",
    "version": 3
   },
   "file_extension": ".py",
   "mimetype": "text/x-python",
   "name": "python",
   "nbconvert_exporter": "python",
   "pygments_lexer": "ipython3",
   "version": "3.11.4"
  }
 },
 "nbformat": 4,
 "nbformat_minor": 2
}
